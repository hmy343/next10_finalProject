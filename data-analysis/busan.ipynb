{
 "cells": [
  {
   "cell_type": "code",
   "execution_count": 1,
   "id": "7cb190dc-21ef-403e-8fd3-125ade56bea2",
   "metadata": {},
   "outputs": [],
   "source": [
    "import pandas as pd\n",
    "import folium\n",
    "import json"
   ]
  },
  {
   "cell_type": "code",
   "execution_count": 2,
   "id": "f0e05fea-cca1-4c8f-ad41-6197cb0bcbb3",
   "metadata": {},
   "outputs": [
    {
     "ename": "DatabaseError",
     "evalue": "ORA-00942: table or view does not exist",
     "output_type": "error",
     "traceback": [
      "\u001b[1;31m---------------------------------------------------------------------------\u001b[0m",
      "\u001b[1;31mDatabaseError\u001b[0m                             Traceback (most recent call last)",
      "\u001b[1;32m<ipython-input-2-a7e908b7fcd4>\u001b[0m in \u001b[0;36m<module>\u001b[1;34m\u001b[0m\n\u001b[0;32m     15\u001b[0m \u001b[1;31m# data=(0.1072,0.0862,0.0746,0.1461,0.0872,0.2942,0.2045)\u001b[0m\u001b[1;33m\u001b[0m\u001b[1;33m\u001b[0m\u001b[1;33m\u001b[0m\u001b[0m\n\u001b[0;32m     16\u001b[0m \u001b[1;33m\u001b[0m\u001b[0m\n\u001b[1;32m---> 17\u001b[1;33m \u001b[0mcursor\u001b[0m\u001b[1;33m.\u001b[0m\u001b[0mexecute\u001b[0m\u001b[1;33m(\u001b[0m\u001b[0msql\u001b[0m\u001b[1;33m)\u001b[0m\u001b[1;33m\u001b[0m\u001b[1;33m\u001b[0m\u001b[0m\n\u001b[0m\u001b[0;32m     18\u001b[0m \u001b[0mdf\u001b[0m \u001b[1;33m=\u001b[0m \u001b[1;33m[\u001b[0m\u001b[1;33m]\u001b[0m\u001b[1;33m\u001b[0m\u001b[1;33m\u001b[0m\u001b[0m\n\u001b[0;32m     19\u001b[0m \u001b[1;32mfor\u001b[0m \u001b[0mrow\u001b[0m \u001b[1;32min\u001b[0m \u001b[0mcursor\u001b[0m\u001b[1;33m:\u001b[0m\u001b[1;33m\u001b[0m\u001b[1;33m\u001b[0m\u001b[0m\n",
      "\u001b[1;31mDatabaseError\u001b[0m: ORA-00942: table or view does not exist"
     ]
    }
   ],
   "source": [
    "import cx_Oracle\n",
    "\n",
    "# conn = cx_Oracle.connect('접속이름/비밀번호@호스트이름:포트번호/SID)\n",
    "conn = cx_Oracle.connect('min/1234@192.168.0.6:1521/xe')\n",
    "cursor = conn.cursor() # 커서 생성\n",
    "\n",
    "sql =   \"\"\"\n",
    "        SELECT A.SGG_CD, A.SGG_NM, D.VSTR_TOTAL\n",
    "        FROM DM_SGG_VSTR D,\n",
    "            (SELECT SGG_CD, SGG_NM\n",
    "            FROM AM_CODE\n",
    "            GROUP BY SGG_CD, SGG_NM) A\n",
    "        WHERE D.SGG_CD = A.SGG_CD\n",
    "        \"\"\"\n",
    "# data=(0.1072,0.0862,0.0746,0.1461,0.0872,0.2942,0.2045)\n",
    "\n",
    "cursor.execute(sql)\n",
    "df = []\n",
    "for row in cursor:\n",
    "#         print(row)\n",
    "#         df = list((row))\n",
    "        df.append(row)\n",
    "print(df)\n",
    "cursor.close()\n",
    "# conn.commit()\n",
    "# conn.rollback()\n",
    "conn.close()"
   ]
  },
  {
   "cell_type": "code",
   "execution_count": null,
   "id": "a7611573-b206-4c98-9f6a-b79ef698e810",
   "metadata": {},
   "outputs": [],
   "source": [
    "print(df)"
   ]
  },
  {
   "cell_type": "code",
   "execution_count": null,
   "id": "d8b4880b-6101-4b80-9a40-397a1b35b7e2",
   "metadata": {},
   "outputs": [],
   "source": [
    "column = ['sgg_cd','sgg_nm','vstr_expn']\n",
    "busan = pd.DataFrame(df,columns=column)\n",
    "# busan.columns = busan.iloc[0]"
   ]
  },
  {
   "cell_type": "code",
   "execution_count": null,
   "id": "156d1d27-3add-46c6-8fda-ff343d851bdf",
   "metadata": {},
   "outputs": [],
   "source": [
    "busan"
   ]
  },
  {
   "cell_type": "code",
   "execution_count": null,
   "id": "356abfd0-9ada-4472-886b-e28408352793",
   "metadata": {},
   "outputs": [],
   "source": [
    "# m = folium.Map(location=[35.1753194,129.0613623], zoom_start=10)\n"
   ]
  },
  {
   "cell_type": "code",
   "execution_count": null,
   "id": "1b329507-595c-4040-b57b-f78c59db26d0",
   "metadata": {
    "tags": []
   },
   "outputs": [],
   "source": [
    "# jsondata = open('busan_gu.json','r',encoding='UTF8').read()\n",
    "# jsondata = json.loads(jsondata)\n",
    "# bins=list(busan['vstr_expn'].quantile([0,0.05,0.1,0.15,0.2,0.25,0.3,0.35,0.4,0.45,0.5,0.6,0.7,0.8,0.9,1]))\n",
    "# folium.Choropleth(\n",
    "#     geo_data=jsondata,\n",
    "#     data=busan['vstr_expn'],\n",
    "#     columns=(busan['sgg_nm'],\n",
    "#              busan['vstr_expn']),\n",
    "#     key_on='feature.id',\n",
    "#     bins=bins,\n",
    "#     fill_color='PuBuGn',\n",
    "#     fill_opacity=0.8, \n",
    "#     legend_name='부산 방문자 수').add_to(map)\n",
    "# map\n",
    "\n",
    "# folium.Choropleth(geo_data=jsondata,data=busan['vstr_expn'],columns=[busan.index,busan.vstr_expn],key_on='feature.id').add_to(map)\n",
    "# map"
   ]
  },
  {
   "cell_type": "code",
   "execution_count": null,
   "id": "6851c9ec-ea72-40e1-8b9b-4904be4d0b2e",
   "metadata": {
    "tags": []
   },
   "outputs": [],
   "source": [
    "# map = folium.Map([35.1753194,129.0613623], tiles=\"OpenStreetMap\", zoom_start=9)\n",
    "# jsondata = open('busan_gu.json','r',encoding='UTF8').read()\n",
    "# jsondata = json.loads(jsondata)\n",
    "# folium.Choropleth(geo_data=jsondata,data=busan['vstr_expn'],columns=['sgg_nm','vstr_expn'],key_on='feature.id',\n",
    "#                   fill_color='YlGnBu',fill_opacity=0.8, legend_name='부산 인구 현황').add_to(map)\n",
    "# map"
   ]
  },
  {
   "cell_type": "code",
   "execution_count": null,
   "id": "84020a74-67fb-4512-80f4-8f21249e1705",
   "metadata": {
    "tags": []
   },
   "outputs": [],
   "source": [
    "# state_geo ='busan_gu.json'\n",
    "\n",
    "# map = folium.Map([35.1753194,129.0613623], tiles=\"OpenStreetMap\", zoom_start=9)\n",
    "\n",
    "\n",
    "# folium.Choropleth(geo_data=state_geo, encoding='UTF8',data=busan['vstr_expn'],columns=['sgg_nm','vstr_expn'],key_on='feature.id',\n",
    "#                   fill_color='YlGnBu',fill_opacity=0.8, legend_name='부산 인구 현황').add_to(map)\n",
    "# map"
   ]
  },
  {
   "cell_type": "code",
   "execution_count": null,
   "id": "001d73d0-32ff-48a7-83bc-270ee6223614",
   "metadata": {},
   "outputs": [],
   "source": [
    "import webbrowser\n",
    "import folium, json\n",
    "import pandas as pd\n",
    "\n",
    "\n",
    "m = folium.Map(location=[35.1753194,129.0613623], tiles=\"OpenStreetMap\", zoom_start=10)\n",
    "geo_data = json.load(open('busan_gu.json', encoding='utf-8'))\n",
    "\n",
    "import cx_Oracle\n",
    "\n",
    "# conn = cx_Oracle.connect('접속이름/비밀번호@호스트이름:포트번호/SID)\n",
    "conn = cx_Oracle.connect('min/1234@192.168.0.6:1521/xe')\n",
    "cursor = conn.cursor() # 커서 생성\n",
    "\n",
    "sql =   \"\"\"\n",
    "        SELECT A.SGG_CD, A.SGG_NM, D.VSTR_TOTAL\n",
    "        FROM DM_SGG_VSTR D,\n",
    "            (SELECT SGG_CD, SGG_NM\n",
    "            FROM AM_CODE\n",
    "            GROUP BY SGG_CD, SGG_NM) A\n",
    "        WHERE D.SGG_CD = A.SGG_CD\n",
    "        \"\"\"\n",
    "# data=(0.1072,0.0862,0.0746,0.1461,0.0872,0.2942,0.2045)\n",
    "\n",
    "cursor.execute(sql) #쿼리 실행\n",
    "df = []\n",
    "for row in cursor:\n",
    "#         print(row)\n",
    "#         df = list((row))\n",
    "        df.append(row)\n",
    "# print(df)\n",
    "cursor.close()\n",
    "# conn.commit()\n",
    "# conn.rollback()\n",
    "conn.close()\n",
    "column = ['sgg_cd','sgg_nm','vstr_expn']\n",
    "busan = pd.DataFrame(df,columns=column)\n",
    "\n",
    "folium.Choropleth(geo_data=geo_data,\n",
    "                  data = busan,\n",
    "                  columns=['sgg_nm','vstr_expn'],\n",
    "                  key_on='feature.properties.name',\n",
    "                  fill_color='PuBuGn',\n",
    "                  fill_opacity=0.8\n",
    "                  ).add_to(m)\n",
    "\n",
    "# m.save('folium_kr.html')\n",
    "# webbrowser.open_new(\"folium_kr.html\")\n",
    "m"
   ]
  },
  {
   "cell_type": "code",
   "execution_count": null,
   "id": "f253268e-aa05-4029-9a1e-802ed027a5ac",
   "metadata": {},
   "outputs": [],
   "source": []
  }
 ],
 "metadata": {
  "kernelspec": {
   "display_name": "Python 3",
   "language": "python",
   "name": "python3"
  },
  "language_info": {
   "codemirror_mode": {
    "name": "ipython",
    "version": 3
   },
   "file_extension": ".py",
   "mimetype": "text/x-python",
   "name": "python",
   "nbconvert_exporter": "python",
   "pygments_lexer": "ipython3",
   "version": "3.8.8"
  }
 },
 "nbformat": 4,
 "nbformat_minor": 5
}
